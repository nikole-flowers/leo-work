{
 "cells": [
  {
   "cell_type": "code",
   "execution_count": 16,
   "metadata": {},
   "outputs": [],
   "source": [
    "import os\n",
    "import glob"
   ]
  },
  {
   "cell_type": "code",
   "execution_count": 17,
   "metadata": {},
   "outputs": [
    {
     "name": "stdout",
     "output_type": "stream",
     "text": [
      "![Nandog Pet Gear](https://raw.githubusercontent.com/nikole-flowers/leo-work/main/Nandog/Nandog3.jpeg \"Nandog Pet Gear\")\n",
      "Original source: [Nandog Pet Gear](https://thedogslanding.com/products/dogslanding%E2%84%A2-calming-pawapartner-patent-pending)\n",
      "![Nandog Pet Gear](https://raw.githubusercontent.com/nikole-flowers/leo-work/main/Nandog/Nandog.mp4 \"Nandog Pet Gear\")\n",
      "Original source: [Nandog Pet Gear](https://thedogslanding.com/products/dogslanding%E2%84%A2-calming-pawapartner-patent-pending)\n",
      "![Nandog Pet Gear](https://raw.githubusercontent.com/nikole-flowers/leo-work/main/Nandog/source.md \"Nandog Pet Gear\")\n",
      "Original source: [Nandog Pet Gear](https://thedogslanding.com/products/dogslanding%E2%84%A2-calming-pawapartner-patent-pending)\n",
      "![Nandog Pet Gear](https://raw.githubusercontent.com/nikole-flowers/leo-work/main/Nandog/Nandog.gif \"Nandog Pet Gear\")\n",
      "Original source: [Nandog Pet Gear](https://thedogslanding.com/products/dogslanding%E2%84%A2-calming-pawapartner-patent-pending)\n",
      "![Nandog Pet Gear](https://raw.githubusercontent.com/nikole-flowers/leo-work/main/Nandog/Nandog5.jpeg \"Nandog Pet Gear\")\n",
      "Original source: [Nandog Pet Gear](https://thedogslanding.com/products/dogslanding%E2%84%A2-calming-pawapartner-patent-pending)\n",
      "![Nandog Pet Gear](https://raw.githubusercontent.com/nikole-flowers/leo-work/main/Nandog/Nandog4.jpeg \"Nandog Pet Gear\")\n",
      "Original source: [Nandog Pet Gear](https://thedogslanding.com/products/dogslanding%E2%84%A2-calming-pawapartner-patent-pending)\n",
      "![Nandog Pet Gear](https://raw.githubusercontent.com/nikole-flowers/leo-work/main/Nandog/Nandog8.jpeg \"Nandog Pet Gear\")\n",
      "Original source: [Nandog Pet Gear](https://thedogslanding.com/products/dogslanding%E2%84%A2-calming-pawapartner-patent-pending)\n",
      "![Nandog Pet Gear](https://raw.githubusercontent.com/nikole-flowers/leo-work/main/Nandog/Nandog11.jpeg \"Nandog Pet Gear\")\n",
      "Original source: [Nandog Pet Gear](https://thedogslanding.com/products/dogslanding%E2%84%A2-calming-pawapartner-patent-pending)\n",
      "![Nandog Pet Gear](https://raw.githubusercontent.com/nikole-flowers/leo-work/main/Nandog/Nandog7.jpeg \"Nandog Pet Gear\")\n",
      "Original source: [Nandog Pet Gear](https://thedogslanding.com/products/dogslanding%E2%84%A2-calming-pawapartner-patent-pending)\n",
      "![Nandog Pet Gear](https://raw.githubusercontent.com/nikole-flowers/leo-work/main/Nandog/Nandog12.png \"Nandog Pet Gear\")\n",
      "Original source: [Nandog Pet Gear](https://thedogslanding.com/products/dogslanding%E2%84%A2-calming-pawapartner-patent-pending)\n",
      "![Nandog Pet Gear](https://raw.githubusercontent.com/nikole-flowers/leo-work/main/Nandog/Nandog2.jpg \"Nandog Pet Gear\")\n",
      "Original source: [Nandog Pet Gear](https://thedogslanding.com/products/dogslanding%E2%84%A2-calming-pawapartner-patent-pending)\n",
      "![Nandog Pet Gear](https://raw.githubusercontent.com/nikole-flowers/leo-work/main/Nandog/Nandog6.jpeg \"Nandog Pet Gear\")\n",
      "Original source: [Nandog Pet Gear](https://thedogslanding.com/products/dogslanding%E2%84%A2-calming-pawapartner-patent-pending)\n",
      "![Nandog Pet Gear](https://raw.githubusercontent.com/nikole-flowers/leo-work/main/Nandog/loop.ipynb \"Nandog Pet Gear\")\n",
      "Original source: [Nandog Pet Gear](https://thedogslanding.com/products/dogslanding%E2%84%A2-calming-pawapartner-patent-pending)\n",
      "![Nandog Pet Gear](https://raw.githubusercontent.com/nikole-flowers/leo-work/main/Nandog/Nandog15.jpg \"Nandog Pet Gear\")\n",
      "Original source: [Nandog Pet Gear](https://thedogslanding.com/products/dogslanding%E2%84%A2-calming-pawapartner-patent-pending)\n",
      "![Nandog Pet Gear](https://raw.githubusercontent.com/nikole-flowers/leo-work/main/Nandog/Nandog10.jpeg \"Nandog Pet Gear\")\n",
      "Original source: [Nandog Pet Gear](https://thedogslanding.com/products/dogslanding%E2%84%A2-calming-pawapartner-patent-pending)\n",
      "![Nandog Pet Gear](https://raw.githubusercontent.com/nikole-flowers/leo-work/main/Nandog/Nandog14.png \"Nandog Pet Gear\")\n",
      "Original source: [Nandog Pet Gear](https://thedogslanding.com/products/dogslanding%E2%84%A2-calming-pawapartner-patent-pending)\n",
      "![Nandog Pet Gear](https://raw.githubusercontent.com/nikole-flowers/leo-work/main/Nandog/Nandog.jpeg \"Nandog Pet Gear\")\n",
      "Original source: [Nandog Pet Gear](https://thedogslanding.com/products/dogslanding%E2%84%A2-calming-pawapartner-patent-pending)\n"
     ]
    }
   ],
   "source": [
    "for file in glob.glob('*'):\n",
    "\n",
    "    print(f\"\"\"![Nandog Pet Gear](https://raw.githubusercontent.com/nikole-flowers/leo-work/main/Nandog/{file} \"Nandog Pet Gear\")\n",
    "Original source: [Nandog Pet Gear](https://thedogslanding.com/products/dogslanding%E2%84%A2-calming-pawapartner-patent-pending)\"\"\")\n"
   ]
  }
 ],
 "metadata": {
  "language_info": {
   "name": "python"
  }
 },
 "nbformat": 4,
 "nbformat_minor": 2
}
